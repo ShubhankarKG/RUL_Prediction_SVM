{
  "nbformat": 4,
  "nbformat_minor": 0,
  "metadata": {
    "accelerator": "GPU",
    "colab": {
      "name": "ML_Lab.ipynb",
      "provenance": [],
      "collapsed_sections": [],
      "include_colab_link": true
    },
    "kernelspec": {
      "display_name": "Python 3",
      "name": "python3"
    },
    "language_info": {
      "name": "python"
    }
  },
  "cells": [
    {
      "cell_type": "markdown",
      "metadata": {
        "id": "view-in-github",
        "colab_type": "text"
      },
      "source": [
        "<a href=\"https://colab.research.google.com/github/ShubhankarKG/RUL_Prediction_SVM/blob/master/SVM_RUL_Prediction.ipynb\" target=\"_parent\"><img src=\"https://colab.research.google.com/assets/colab-badge.svg\" alt=\"Open In Colab\"/></a>"
      ]
    },
    {
      "cell_type": "code",
      "metadata": {
        "colab": {
          "base_uri": "https://localhost:8080/"
        },
        "id": "G2HJOacm4odh",
        "outputId": "37745023-76ac-4dae-a103-8411eb96e701"
      },
      "source": [
        "from google.colab import drive\n",
        "drive.mount('/content/drive')"
      ],
      "execution_count": null,
      "outputs": [
        {
          "output_type": "stream",
          "text": [
            "Drive already mounted at /content/drive; to attempt to forcibly remount, call drive.mount(\"/content/drive\", force_remount=True).\n"
          ],
          "name": "stdout"
        }
      ]
    },
    {
      "cell_type": "code",
      "metadata": {
        "id": "_SiS7ApU-yGZ"
      },
      "source": [
        "import pandas as pd\n",
        "import cupy as np\n",
        "import math\n",
        "import matplotlib.pyplot as plt\n",
        "from os import path\n",
        "\n",
        "%matplotlib inline"
      ],
      "execution_count": null,
      "outputs": []
    },
    {
      "cell_type": "code",
      "metadata": {
        "id": "Ex2MPPo8_5fW"
      },
      "source": [
        "df_1_1 = pd.read_csv(\"/content/drive/MyDrive/Data2/learning_set/acc_Bearing1_1.csv\")\n",
        "df_1_2 = pd.read_csv(\"/content/drive/MyDrive/Data2/learning_set/acc_Bearing1_2.csv\")\n",
        "df_2_1 = pd.read_csv(\"/content/drive/MyDrive/Data2/learning_set/acc_Bearing2_1.csv\")\n",
        "df_2_2 = pd.read_csv(\"/content/drive/MyDrive/Data2/learning_set/acc_Bearing2_1.csv\")\n",
        "df_3_1 = pd.read_csv(\"/content/drive/MyDrive/Data2/learning_set/acc_Bearing3_1.csv\")\n",
        "df_3_2 = pd.read_csv(\"/content/drive/MyDrive/Data2/learning_set/acc_Bearing3_2.csv\")\n"
      ],
      "execution_count": null,
      "outputs": []
    },
    {
      "cell_type": "code",
      "metadata": {
        "id": "TEAG8Uo7Q1u_"
      },
      "source": [
        "def gen_rms(col):\n",
        "  return np.squeeze(np.sqrt(np.mean(np.sum(col ** 2))))"
      ],
      "execution_count": null,
      "outputs": []
    },
    {
      "cell_type": "code",
      "metadata": {
        "id": "HT69coqjph3o"
      },
      "source": [
        "base_path = \"/content/drive/MyDrive/ML_LAB_Dataset\"\n",
        "rms_horizontal = []"
      ],
      "execution_count": null,
      "outputs": []
    },
    {
      "cell_type": "code",
      "metadata": {
        "id": "nC_5wvWZ4aNt"
      },
      "source": [
        "from IPython.display import ProgressBar\n",
        "\n",
        "def assign_files(extension, files, base_path=\"/content/drive/MyDrive/ML_LAB_Dataset\") :\n",
        "  rms_horizontal_local = []\n",
        "  p = ProgressBar(total=files)\n",
        "  for i in range(files):\n",
        "    p.progress = i\n",
        "    file = base_path + extension + f\"/acc_{str(i+1).zfill(5)}.csv\"\n",
        "    if path.exists(file):\n",
        "      temp_df = pd.read_csv(file, header=None)\n",
        "      temp_rms = gen_rms(temp_df[4])\n",
        "      rms_horizontal_local.append(temp_rms)\n",
        "  return rms_horizontal_local"
      ],
      "execution_count": null,
      "outputs": []
    },
    {
      "cell_type": "code",
      "metadata": {
        "id": "4KAz00xp5ZJT"
      },
      "source": [
        "rms_1_1 = assign_files(\"/Bearing1_1\", 3269)"
      ],
      "execution_count": null,
      "outputs": []
    },
    {
      "cell_type": "code",
      "metadata": {
        "id": "LiUpVHjN54me"
      },
      "source": [
        "rms_1_2 = assign_files(\"/Bearing1_2\", 1015)"
      ],
      "execution_count": null,
      "outputs": []
    },
    {
      "cell_type": "code",
      "metadata": {
        "colab": {
          "base_uri": "https://localhost:8080/",
          "height": 34
        },
        "id": "nLkzmPiH597V",
        "outputId": "d91c66d9-f60e-47e5-f9a8-6c7aa71e16cf"
      },
      "source": [
        "rms_2_1 = assign_files(\"/Bearing2_1\", 1062)"
      ],
      "execution_count": null,
      "outputs": [
        {
          "output_type": "display_data",
          "data": {
            "text/html": [
              "<progress style='width:60ex' max='1062' value='1061'></progress>"
            ],
            "text/plain": [
              "[=========================================================== ] 1061/1062"
            ]
          },
          "metadata": {
            "tags": []
          }
        }
      ]
    },
    {
      "cell_type": "code",
      "metadata": {
        "id": "RzrQ2KHg6DDW"
      },
      "source": [
        "rms_2_2 = assign_files(\"/Bearing2_2\", 797)"
      ],
      "execution_count": null,
      "outputs": []
    },
    {
      "cell_type": "code",
      "metadata": {
        "colab": {
          "base_uri": "https://localhost:8080/",
          "height": 34
        },
        "id": "-PlbLxSf6PzV",
        "outputId": "6e0df506-279d-4f51-a56f-f948a4a16cf5"
      },
      "source": [
        "rms_3_1 = assign_files(\"/Bearing3_1\", 604)"
      ],
      "execution_count": null,
      "outputs": [
        {
          "output_type": "display_data",
          "data": {
            "text/html": [
              "<progress style='width:60ex' max='604' value='603'></progress>"
            ],
            "text/plain": [
              "[=========================================================== ] 603/604"
            ]
          },
          "metadata": {
            "tags": []
          }
        }
      ]
    },
    {
      "cell_type": "code",
      "metadata": {
        "id": "2VWFj5Im6VqY"
      },
      "source": [
        "rms_3_2 = assign_files(\"/Bearing3_2\", 1637)"
      ],
      "execution_count": null,
      "outputs": []
    },
    {
      "cell_type": "code",
      "metadata": {
        "id": "9vZpcxpRGDic"
      },
      "source": [
        "import itertools\n",
        "\n",
        "rms_1 = list(itertools.chain(rms_1_1, rms_1_2))\n",
        "rms_2 = list(itertools.chain(rms_2_1, rms_2_2))\n",
        "rms_3 = list(itertools.chain(rms_3_1, rms_3_2))\n"
      ],
      "execution_count": null,
      "outputs": []
    },
    {
      "cell_type": "code",
      "metadata": {
        "id": "Y8CnZ2GoGO5h",
        "colab": {
          "base_uri": "https://localhost:8080/"
        },
        "outputId": "00dfb3c5-d7f9-4a38-fb46-536c6f929f0f"
      },
      "source": [
        "len(rms_1)"
      ],
      "execution_count": null,
      "outputs": [
        {
          "output_type": "execute_result",
          "data": {
            "text/plain": [
              "3674"
            ]
          },
          "metadata": {
            "tags": []
          },
          "execution_count": 350
        }
      ]
    },
    {
      "cell_type": "code",
      "metadata": {
        "id": "a49TTyNx472U",
        "colab": {
          "base_uri": "https://localhost:8080/",
          "height": 280
        },
        "outputId": "426db760-2be6-42f1-80e0-2d869e1c9ecd"
      },
      "source": [
        "plt.figure()\n",
        "\n",
        "temp1, = plt.plot([i for i in range(len(rms_1))], rms_1)\n",
        "temp2, = plt.plot([i for i in range(len(rms_2))], rms_2)\n",
        "temp3, = plt.plot([i for i in range(len(rms_3))], rms_3)\n",
        "plt.xlabel('Time')\n",
        "plt.ylabel('RMS Horizontal acceleration')\n",
        "plt.legend([temp1, temp2, temp3], [\n",
        "            \"Bearing 1\", \"Bearing 2\", \"Bearing 3\"])\n",
        "plt.show()"
      ],
      "execution_count": null,
      "outputs": [
        {
          "output_type": "display_data",
          "data": {
            "image/png": "[encoded data removed]",
            "text/plain": [
              "<Figure size 432x288 with 1 Axes>"
            ]
          },
          "metadata": {
            "tags": [],
            "needs_background": "light"
          }
        }
      ]
    },
    {
      "cell_type": "code",
      "metadata": {
        "id": "gKP3RjR7IB7Q"
      },
      "source": [
        "rms_horizontal = list(itertools.chain(rms_1, rms_2, rms_3))"
      ],
      "execution_count": null,
      "outputs": []
    },
    {
      "cell_type": "code",
      "metadata": {
        "id": "0JTIwS73ttB8",
        "colab": {
          "base_uri": "https://localhost:8080/",
          "height": 266
        },
        "outputId": "ed31364a-39de-4d07-cf1f-c418e928dd77"
      },
      "source": [
        "plt.figure()\n",
        "plt.plot([i for i in range(len(rms_horizontal))], rms_horizontal)\n",
        "plt.show()"
      ],
      "execution_count": null,
      "outputs": [
        {
          "output_type": "display_data",
          "data": {
            "image/png": "[encoded data removed]",
            "text/plain": [
              "<Figure size 432x288 with 1 Axes>"
            ]
          },
          "metadata": {
            "tags": [],
            "needs_background": "light"
          }
        }
      ]
    },
    {
      "cell_type": "code",
      "metadata": {
        "id": "swjk2D4cMmXI",
        "colab": {
          "base_uri": "https://localhost:8080/",
          "height": 278
        },
        "outputId": "9a9b7d90-0f3a-4d0e-f8a4-4f7d0ff6c06b"
      },
      "source": [
        "plt.figure()\n",
        "plt.plot([i for i in range(df_1_1.shape[0])], df_1_1[\"E\"])\n",
        "plt.show()"
      ],
      "execution_count": null,
      "outputs": [
        {
          "output_type": "display_data",
          "data": {
            "image/png": "[encoded data removed]",
            "text/plain": [
              "<Figure size 432x288 with 1 Axes>"
            ]
          },
          "metadata": {
            "tags": [],
            "needs_background": "light"
          }
        }
      ]
    },
    {
      "cell_type": "code",
      "metadata": {
        "id": "thThgPDiWsjw",
        "colab": {
          "base_uri": "https://localhost:8080/",
          "height": 278
        },
        "outputId": "e3ecaad9-e189-429c-bb05-6c6dd2691c84"
      },
      "source": [
        "plt.figure()\n",
        "plt.plot([i for i in range(df_1_2.shape[0])], df_1_2[\"E\"])\n",
        "plt.show()"
      ],
      "execution_count": null,
      "outputs": [
        {
          "output_type": "display_data",
          "data": {
            "image/png": "[encoded data removed]",
            "text/plain": [
              "<Figure size 432x288 with 1 Axes>"
            ]
          },
          "metadata": {
            "tags": [],
            "needs_background": "light"
          }
        }
      ]
    },
    {
      "cell_type": "code",
      "metadata": {
        "id": "ctBGw0I0a6WZ",
        "colab": {
          "base_uri": "https://localhost:8080/",
          "height": 278
        },
        "outputId": "85d6142a-a8be-4e73-ea6f-4e888bf5d013"
      },
      "source": [
        "plt.figure()\n",
        "plt.plot([i for i in range(df_2_1.shape[0])], df_2_1[\"E\"])\n",
        "plt.show()"
      ],
      "execution_count": null,
      "outputs": [
        {
          "output_type": "display_data",
          "data": {
            "image/png": "[encoded data removed]",
            "text/plain": [
              "<Figure size 432x288 with 1 Axes>"
            ]
          },
          "metadata": {
            "tags": [],
            "needs_background": "light"
          }
        }
      ]
    },
    {
      "cell_type": "code",
      "metadata": {
        "id": "Mpp0xV-ra-FS",
        "colab": {
          "base_uri": "https://localhost:8080/",
          "height": 278
        },
        "outputId": "b954ebd1-f173-4777-931e-b10045864fcc"
      },
      "source": [
        "plt.figure()\n",
        "plt.plot([i for i in range(df_2_2.shape[0])], df_2_2[\"E\"])\n",
        "plt.show()"
      ],
      "execution_count": null,
      "outputs": [
        {
          "output_type": "display_data",
          "data": {
            "image/png": "[encoded data removed]",
            "text/plain": [
              "<Figure size 432x288 with 1 Axes>"
            ]
          },
          "metadata": {
            "tags": [],
            "needs_background": "light"
          }
        }
      ]
    },
    {
      "cell_type": "code",
      "metadata": {
        "id": "M5KuyYz2bFej",
        "colab": {
          "base_uri": "https://localhost:8080/",
          "height": 278
        },
        "outputId": "85040a7b-dd27-4dfa-d14c-eb46ba36c72c"
      },
      "source": [
        "plt.figure()\n",
        "plt.plot([i for i in range(df_3_1.shape[0])], df_3_1[\"E\"])\n",
        "plt.show()"
      ],
      "execution_count": null,
      "outputs": [
        {
          "output_type": "display_data",
          "data": {
            "image/png": "[encoded data removed]",
            "text/plain": [
              "<Figure size 432x288 with 1 Axes>"
            ]
          },
          "metadata": {
            "tags": [],
            "needs_background": "light"
          }
        }
      ]
    },
    {
      "cell_type": "code",
      "metadata": {
        "id": "WwOFS3wMbJOB",
        "colab": {
          "base_uri": "https://localhost:8080/",
          "height": 278
        },
        "outputId": "9fd6d2a4-e946-4df9-827a-6cb6f4567460"
      },
      "source": [
        "plt.figure()\n",
        "plt.plot([i for i in range(df_3_2.shape[0])], df_3_2[\"E\"])\n",
        "plt.show()"
      ],
      "execution_count": null,
      "outputs": [
        {
          "output_type": "display_data",
          "data": {
            "image/png": "[encoded data removed]",
            "text/plain": [
              "<Figure size 432x288 with 1 Axes>"
            ]
          },
          "metadata": {
            "tags": [],
            "needs_background": "light"
          }
        }
      ]
    },
    {
      "cell_type": "code",
      "metadata": {
        "id": "7zAoliHz6ZJc"
      },
      "source": [
        "def rrms(rms):\n",
        "  stable_data_point = 250\n",
        "  rms_np = np.array(rms)\n",
        "  rms_norm = np.mean(rms_np[:stable_data_point])\n",
        "  return rms_np / rms_norm"
      ],
      "execution_count": null,
      "outputs": []
    },
    {
      "cell_type": "code",
      "metadata": {
        "id": "zbX9NLhEHBPv"
      },
      "source": [
        "rrms_1_1 = rrms(rms_1_1)\n",
        "rrms_1_2 = rrms(rms_1_2)\n",
        "rrms_2_1 = rrms(rms_2_1)\n",
        "rrms_2_2 = rrms(rms_2_2)\n",
        "rrms_3_1 = rrms(rms_3_1)\n",
        "rrms_3_2 = rrms(rms_3_2)"
      ],
      "execution_count": null,
      "outputs": []
    },
    {
      "cell_type": "code",
      "metadata": {
        "id": "6eoautmq9Xfg"
      },
      "source": [
        "rrms_2_1 = rrms(rms_2_1)\n",
        "rrms_3_1 = rrms(rms_3_1)"
      ],
      "execution_count": null,
      "outputs": []
    },
    {
      "cell_type": "code",
      "metadata": {
        "id": "OLa8CC2eJF2E"
      },
      "source": [
        "rrms_1 = rrms(rms_1)"
      ],
      "execution_count": null,
      "outputs": []
    },
    {
      "cell_type": "code",
      "metadata": {
        "id": "TJh76jeeJJKS"
      },
      "source": [
        "rrms_2 = rrms(rms_2)"
      ],
      "execution_count": null,
      "outputs": []
    },
    {
      "cell_type": "code",
      "metadata": {
        "id": "nSi5ZZQyqHsv"
      },
      "source": [
        "rrms_2_1 = rrms(rms_2_1)"
      ],
      "execution_count": null,
      "outputs": []
    },
    {
      "cell_type": "code",
      "metadata": {
        "id": "wRULqsaFJVvy"
      },
      "source": [
        "rrms_3 = rrms(rms_3)"
      ],
      "execution_count": null,
      "outputs": []
    },
    {
      "cell_type": "code",
      "metadata": {
        "id": "HXmFmSHQqN1I"
      },
      "source": [
        "rrms_3_1 = rrms(rms_3_1)"
      ],
      "execution_count": null,
      "outputs": []
    },
    {
      "cell_type": "code",
      "metadata": {
        "id": "pmvEU_TqJiZc",
        "colab": {
          "base_uri": "https://localhost:8080/"
        },
        "outputId": "d669297e-5865-4d92-b663-91f9268dbe5f"
      },
      "source": [
        "len(rrms_1)"
      ],
      "execution_count": null,
      "outputs": [
        {
          "output_type": "execute_result",
          "data": {
            "text/plain": [
              "3674"
            ]
          },
          "metadata": {
            "tags": []
          },
          "execution_count": 368
        }
      ]
    },
    {
      "cell_type": "code",
      "metadata": {
        "id": "sZFaumhFJX3H",
        "colab": {
          "base_uri": "https://localhost:8080/",
          "height": 279
        },
        "outputId": "63d598db-31a0-4f83-9b3d-019d914a7369"
      },
      "source": [
        "plt.figure()\n",
        "\n",
        "temp1, = plt.plot([i for i in range(len(rrms_1))], list(rrms_1))\n",
        "temp2, = plt.plot([i for i in range(len(rrms_2))], list(rrms_2))\n",
        "temp3, = plt.plot([i for i in range(len(rrms_3))], list(rrms_3))\n",
        "temp4, = plt.plot([i for i in range(6500)], [7 for i in range(6500)], '--')\n",
        "plt.xlabel('Time')\n",
        "plt.ylabel('RRMS Horizontal acceleration')\n",
        "plt.legend([temp1, temp2, temp3, temp4], [\n",
        "            \"Bearing 1\", \"Bearing 2\", \"Bearing 3\", \"Failure Threshold\"])\n",
        "plt.show()"
      ],
      "execution_count": null,
      "outputs": [
        {
          "output_type": "display_data",
          "data": {
            "image/png": "[encoded data removed]",
            "text/plain": [
              "<Figure size 432x288 with 1 Axes>"
            ]
          },
          "metadata": {
            "tags": [],
            "needs_background": "light"
          }
        }
      ]
    },
    {
      "cell_type": "code",
      "metadata": {
        "id": "chOLZaveVrmo"
      },
      "source": [
        "def irrms(rrms, window_length):\n",
        "  rrms_np = np.array(rrms)\n",
        "  irrms = []\n",
        "\n",
        "  x = [10*i for i in range(len(rrms))]\n",
        "\n",
        "  y = np.array([np.mean(rrms[i: i+window_length]) for i in range(len(rrms) - window_length)])\n",
        "\n",
        "\n",
        "  for i in range(len(rrms) - window_length):\n",
        "\n",
        "    x_range = np.array(x[i: i+window_length])\n",
        "    # y_range = np.array(y[i: i+window_length])\n",
        "    y_range = np.array([np.mean(rrms[i: i+window_length]) for _ in range(window_length)])\n",
        "    k_num = np.sum(np.dot(x_range, y_range)) -( np.sum(x_range) * np.sum(y_range) )/window_length\n",
        "    k_denom = np.sum(x_range ** 2) - (np.sum(x_range) ** 2) / window_length\n",
        "\n",
        "    k = k_num / k_denom\n",
        "\n",
        "    b = (np.sum(y_range) - k * np.sum(x_range)) / window_length\n",
        "\n",
        "    rrms_d = []\n",
        "    for j in range(window_length):\n",
        "      rrms_d.append(rrms[i+j] - k*x[i+j] - b)\n",
        "\n",
        "    rrms_d_np = np.array(rrms_d)\n",
        "    mu = np.mean(rrms_d_np)\n",
        "    sigma = np.sqrt(np.mean((rrms_d_np - mu) ** 2))\n",
        "    \n",
        "    min_rrms_d = mu - 3*sigma\n",
        "    max_rrms_d = mu + 3*sigma\n",
        "    rrms_d_i = rrms[i] - k*x[i] - b\n",
        "    if rrms_d_i <= min_rrms_d:\n",
        "      temp_irrms = np.mean(rrms_np[i: i+window_length])\n",
        "    elif rrms_d_i > min_rrms_d and rrms_d_i < max_rrms_d:\n",
        "      temp_irrms = k * x[i] + b\n",
        "    elif rrms_d_i >= max_rrms_d:\n",
        "      temp_irrms = k * x[i] + b + max_rrms_d\n",
        "    irrms.append(temp_irrms)\n",
        "  return irrms"
      ],
      "execution_count": null,
      "outputs": []
    },
    {
      "cell_type": "code",
      "metadata": {
        "id": "IPqPBwXlj1ke"
      },
      "source": [
        "window_length = 30"
      ],
      "execution_count": null,
      "outputs": []
    },
    {
      "cell_type": "code",
      "metadata": {
        "id": "BDBv-C6mj6SJ"
      },
      "source": [
        "irrms_1 = irrms(rrms_1, window_length)"
      ],
      "execution_count": null,
      "outputs": []
    },
    {
      "cell_type": "code",
      "metadata": {
        "id": "YUmmn2lAqrZq"
      },
      "source": [
        "irrms_2_1 = irrms(rrms_2_1, window_length)\n",
        "irrms_3_1 = irrms(rrms_3_1, window_length)"
      ],
      "execution_count": null,
      "outputs": []
    },
    {
      "cell_type": "code",
      "metadata": {
        "id": "QnhQo0ERFI2I"
      },
      "source": [
        "irrms_1_1 = irrms(rrms_1_1, window_length)\n",
        "irrms_1_2 = irrms(rrms_1_2, window_length)\n",
        "irrms_2_2 = irrms(rrms_2_2, window_length)\n",
        "irrms_3_2 = irrms(rrms_3_2, window_length)"
      ],
      "execution_count": null,
      "outputs": []
    },
    {
      "cell_type": "code",
      "metadata": {
        "id": "lVBxqylXklh7"
      },
      "source": [
        "irrms_2 = irrms(rrms_2, window_length)"
      ],
      "execution_count": null,
      "outputs": []
    },
    {
      "cell_type": "code",
      "metadata": {
        "id": "CRpPpiBBksqh"
      },
      "source": [
        "irrms_3 = irrms(rrms_3, window_length)"
      ],
      "execution_count": null,
      "outputs": []
    },
    {
      "cell_type": "code",
      "metadata": {
        "id": "uStKzpQrkx3E",
        "colab": {
          "base_uri": "https://localhost:8080/",
          "height": 279
        },
        "outputId": "9885f137-04b2-43db-ef31-8f3297ed0c08"
      },
      "source": [
        "plt.figure()\n",
        "temp3, = plt.plot([i for i in range(len(irrms_3[:2000]))], list(irrms_3[:2000]))\n",
        "plt.xlabel('Time')\n",
        "plt.ylabel('IRRMS Horizontal acceleration')\n",
        "plt.legend([ temp3], [ \"Bearing 3\"])\n",
        "plt.show()"
      ],
      "execution_count": null,
      "outputs": [
        {
          "output_type": "display_data",
          "data": {
            "image/png": "[encoded data removed]",
            "text/plain": [
              "<Figure size 432x288 with 1 Axes>"
            ]
          },
          "metadata": {
            "tags": [],
            "needs_background": "light"
          }
        }
      ]
    },
    {
      "cell_type": "code",
      "metadata": {
        "id": "LE-KAyIBnNlT",
        "colab": {
          "base_uri": "https://localhost:8080/",
          "height": 283
        },
        "outputId": "1fc1e76c-e4f3-4d52-ac3d-dd3507f38cf7"
      },
      "source": [
        "plt.figure()\n",
        "temp, = plt.plot([i for i in range(len(irrms_2[:2000]))], list(irrms_2[:2000]))\n",
        "plt.xlabel('Time')\n",
        "plt.ylabel('IRRMS Horizontal acceleration')\n",
        "plt.legend([ temp], [ \"Bearing 2\"])\n",
        "plt.show()"
      ],
      "execution_count": null,
      "outputs": [
        {
          "output_type": "display_data",
          "data": {
            "image/png": "[encoded data removed]",
            "text/plain": [
              "<Figure size 432x288 with 1 Axes>"
            ]
          },
          "metadata": {
            "tags": [],
            "needs_background": "light"
          }
        }
      ]
    },
    {
      "cell_type": "code",
      "metadata": {
        "id": "0MW47iWunVu1",
        "colab": {
          "base_uri": "https://localhost:8080/",
          "height": 279
        },
        "outputId": "06a80508-0f61-4b85-d88f-6e3662f79dc3"
      },
      "source": [
        "plt.figure()\n",
        "temp3, = plt.plot([i for i in range(len(irrms_1[:2000]))], list(irrms_1[:2000]))\n",
        "plt.xlabel('Time')\n",
        "plt.ylabel('IRRMS Horizontal acceleration')\n",
        "plt.legend([ temp3], [ \"Bearing 1\"])\n",
        "plt.show()"
      ],
      "execution_count": null,
      "outputs": [
        {
          "output_type": "display_data",
          "data": {
            "image/png": "[encoded data removed]",
            "text/plain": [
              "<Figure size 432x288 with 1 Axes>"
            ]
          },
          "metadata": {
            "tags": [],
            "needs_background": "light"
          }
        }
      ]
    },
    {
      "cell_type": "code",
      "metadata": {
        "id": "zd9nqWGbXRMA"
      },
      "source": [
        "# import random\n",
        "\n",
        "# W = 0.5\n",
        "# c1 = 0.8\n",
        "# c2 = 0.9\n",
        "\n",
        "# class Particle():\n",
        "#   def __init__(self):\n",
        "#     self.position = np.array([random.uniform(0, 2), random.uniform(1e-95, 1e-85), random.uniform(20, 30), random.randrange(200)*10])\n",
        "#     self.pbest_position = self.position\n",
        "#     self.pbest_value = float('inf')\n",
        "#     self.velocity = np.array([0,0,0,0])\n",
        "  \n",
        "#   def move(self):\n",
        "#     self.poition = self.position + self.velocity\n",
        "\n",
        "# class Space():\n",
        "#   def __init__(self, target, target_error, n_particles):\n",
        "#     self.target = target\n",
        "#     self.target_error = target_error\n",
        "#     self.n_particles = n_particles\n",
        "#     self.particles = []\n",
        "#     self.gbest_value = float('inf')\n",
        "#     self.gbest_position = np.array([random.uniform(0, 2), random.uniform(1e-95, 1e-85), random.uniform(20, 30), random.randrange(200)*10])\n",
        "  \n",
        "#   def fitness(self, particle):\n",
        "#     return particle.position[0] + particle.position[1]*pow(particle.position[3], particle.position[2])\n",
        "  \n",
        "#   def set_pbest(self):\n",
        "#     for particle in self.particles:\n",
        "#       fitness_candidate = self.fitness(particle)\n",
        "#       if(particle.pbest_value > fitness_candidate):\n",
        "#         particle.pbest_value = fitness_candidate\n",
        "#         particle.pbest_position = particle.position\n",
        "  \n",
        "#   def set_gbest(self):\n",
        "#     for particle in self.particles:\n",
        "#       best_fitness_candidate = self.fitness(particle)\n",
        "#       if(self.gbest_value > best_fitness_candidate):\n",
        "#         self.gbest_value = best_fitness_candidate\n",
        "#         self.gbest_position = particle.position\n",
        "  \n",
        "#   def move_particles(self):\n",
        "#     for particle in self.particles:\n",
        "#       new_velocity = (W*particle.velocity) + (c1*random.random()) * (particle.pbest_position - particle.position) + (c2*random.random()) * (self.gbest_position - particle.position)\n",
        "#       particle.velocity = new_velocity\n",
        "#       particle.move()\n",
        "\n",
        "# search_space = Space(1, 1e-6, 100)\n",
        "# particles_vector = [Particle() for _ in range(search_space.n_particles)]\n",
        "# search_space.particles = particles_vector\n",
        "\n",
        "# for i in range(100):\n",
        "#   search_space.set_pbest()\n",
        "#   search_space.set_gbest()\n",
        "#   if(abs(search_space.gbest_value - search_space.target) <= search_space.target_error):\n",
        "#     break\n",
        "\n",
        "#   search_space.move_particles()\n",
        "# print(\"The best values are\", search_space.gbest_position)"
      ],
      "execution_count": null,
      "outputs": []
    },
    {
      "cell_type": "code",
      "metadata": {
        "id": "BbGYn1wMGu5e"
      },
      "source": [
        "def fit_values(k, b, Y, M, B, rrms):\n",
        "  y_array = []\n",
        "  x = []\n",
        "  for i in range(len(rrms)):\n",
        "    x.append(i)\n",
        "    y = Y + M*pow(i,B)\n",
        "    if(y < 1.1):\n",
        "      y = k * x[i] + b\n",
        "    y_array.append(y)\n",
        "  return y_array, x"
      ],
      "execution_count": null,
      "outputs": []
    },
    {
      "cell_type": "code",
      "metadata": {
        "id": "0plrY5FrczZg"
      },
      "source": [
        "y_rrms_array_1, x = fit_values(2.31e-5, 0.99, 1.10, 1.68e-93, 28.58, rrms_1)\n",
        "temp1, = plt.plot(x, y_rrms_array_1)\n",
        "y_irrms_array_1, x = fit_values(2.41e-5, 1.01, 1.08, 3.22e-86, 26.30, irrms_1)\n",
        "temp2, = plt.plot(x, y_irrms_array_1)\n",
        "plt.xlabel('Time')\n",
        "plt.ylabel('RRMS and IRRMS Horizontal acceleration')\n",
        "plt.title(\"Bearing 1\")\n",
        "plt.legend([temp1, temp2], [\n",
        "            \"RRMS\", \"IRRMS\"])\n",
        "plt.show()"
      ],
      "execution_count": null,
      "outputs": []
    },
    {
      "cell_type": "code",
      "metadata": {
        "id": "cZ-HK7gLc2W2",
        "colab": {
          "base_uri": "https://localhost:8080/",
          "height": 295
        },
        "outputId": "dec2690c-a3ec-44fe-b4a4-a341d3f2f641"
      },
      "source": [
        "y_rrms_array_2, x = fit_values(2.31e-5, 0.99, 1.10, 1.68e-93, 28.58, rrms_2)\n",
        "temp1, = plt.plot(x, y_rrms_array_2)\n",
        "y_irrms_array_2, x = fit_values(2.41e-5, 1.01, 1.08, 3.22e-86, 26.30, irrms_2)\n",
        "temp2, = plt.plot(x, y_irrms_array_2)\n",
        "plt.xlabel('Time')\n",
        "plt.ylabel('RRMS and IRRMS Horizontal acceleration')\n",
        "plt.title(\"Bearing 2\")\n",
        "plt.legend([temp1, temp2], [\n",
        "            \"RRMS\", \"IRRMS\"])\n",
        "plt.show()"
      ],
      "execution_count": null,
      "outputs": [
        {
          "output_type": "display_data",
          "data": {
            "image/png": "[encoded data removed]",
            "text/plain": [
              "<Figure size 432x288 with 1 Axes>"
            ]
          },
          "metadata": {
            "tags": [],
            "needs_background": "light"
          }
        }
      ]
    },
    {
      "cell_type": "code",
      "metadata": {
        "id": "Mykqpdvic66_",
        "colab": {
          "base_uri": "https://localhost:8080/",
          "height": 295
        },
        "outputId": "bda7fc81-1c9f-42dc-c4a2-1103bb1152f8"
      },
      "source": [
        "y_rrms_array_3, x = fit_values(2.31e-5, 0.99, 1.10, 1.68e-93, 28.58, rrms_3)\n",
        "temp1, = plt.plot(x, y_rrms_array_3)\n",
        "y_irrms_array_3, x = fit_values(2.41e-5, 1.01, 1.08, 3.22e-86, 26.30, irrms_3)\n",
        "temp2, = plt.plot(x, y_irrms_array_3)\n",
        "plt.xlabel('Time')\n",
        "plt.ylabel('RRMS and IRRMS Horizontal acceleration')\n",
        "plt.title(\"Bearing 3\")\n",
        "plt.legend([temp1, temp2], [\n",
        "            \"RRMS\", \"IRRMS\"])\n",
        "plt.show()"
      ],
      "execution_count": null,
      "outputs": [
        {
          "output_type": "display_data",
          "data": {
            "image/png": "[encoded data removed]",
            "text/plain": [
              "<Figure size 432x288 with 1 Axes>"
            ]
          },
          "metadata": {
            "tags": [],
            "needs_background": "light"
          }
        }
      ]
    },
    {
      "cell_type": "code",
      "metadata": {
        "id": "4sYAn58WGvap"
      },
      "source": [
        "class_irrms = []\n",
        "\n",
        "RRMS_THRESHOLD = 1.2"
      ],
      "execution_count": null,
      "outputs": []
    },
    {
      "cell_type": "code",
      "metadata": {
        "id": "pJrdbyR2GQoj"
      },
      "source": [
        "def generate_svm_data(rrms, irrms, rrms_threshold=1.1):\n",
        "  output_data = []\n",
        "\n",
        "  # Don't consider the first window_size elements (as they are missing in irrms as well).\n",
        "  rrms = rrms[30:]\n",
        "\n",
        "  # Find the degradation index from the reversed list (or form the back side of the list).\n",
        "  deg_rev_idx = next(x for x, val in enumerate(reversed(rrms)) if val < rrms_threshold)\n",
        "  deg_idx = len(rrms) - deg_rev_idx\n",
        "\n",
        "  deg_time = deg_idx * 10\n",
        "\n",
        "  for i in range(deg_idx):\n",
        "    output_data.append(0)\n",
        "  for i in range(deg_idx, len(rrms)):\n",
        "    if i < deg_idx + int(deg_rev_idx * 0.6):\n",
        "      output_data.append(1)\n",
        "    elif i < deg_idx + int(deg_rev_idx * 0.8):\n",
        "      output_data.append(2)\n",
        "    elif i < deg_idx + int(deg_rev_idx * 0.95):\n",
        "      output_data.append(3)\n",
        "    else:\n",
        "      output_data.append(4)\n",
        "\n",
        "  input_data = np.c_[np.array(rrms), np.array(irrms)]\n",
        "\n",
        "  edge_data = []\n",
        "  for i in set(output_data):\n",
        "    idx = output_data.index(i)\n",
        "    edge_data.append(input_data.tolist()[idx][1])\n",
        "\n",
        "  # Remove the first edge for class 0, do not require that.\n",
        "  edge_data = edge_data[1:]\n",
        "  # Add the edge of the last data point.\n",
        "  edge_data.append(input_data.tolist()[-1][1])\n",
        "  \n",
        "  temp = []\n",
        "  # In the form [[edge_1, edge_2], [edge_2, edge_3] ...]\n",
        "  for i, v in enumerate(edge_data):\n",
        "    if i+1 < len(edge_data):\n",
        "      temp.append([v, edge_data[i+1]])\n",
        "\n",
        "  edge_data = temp\n",
        "  output_data = np.array(output_data)\n",
        "  \n",
        "  return input_data, output_data, edge_data, deg_time"
      ],
      "execution_count": null,
      "outputs": []
    },
    {
      "cell_type": "code",
      "metadata": {
        "colab": {
          "base_uri": "https://localhost:8080/"
        },
        "id": "3-cydBOmq1cz",
        "outputId": "b01929a3-d0eb-4a96-c48e-de5a56b2df2b"
      },
      "source": [
        "input_2_1, output_2_1, edge_2_1, deg_time_2_1 = generate_svm_data(rrms_2_1, irrms_2_1)\n",
        "input_3_1, output_3_1, edge_3_1, deg_time_3_1 = generate_svm_data(rrms_3_1, irrms_3_1)\n",
        "\n",
        "print(deg_time_2_1, deg_time_3_1)"
      ],
      "execution_count": null,
      "outputs": [
        {
          "output_type": "stream",
          "text": [
            "8360 4630\n"
          ],
          "name": "stdout"
        }
      ]
    },
    {
      "cell_type": "code",
      "metadata": {
        "id": "o0M-oGEfGydL"
      },
      "source": [
        "input_1_1, output_1_1, edge_time_1_1, deg_time_1_1 = generate_svm_data(rrms_1_1, irrms_1_1)\n",
        "input_1_2, output_1_2, edge_time_1_2, deg_time_1_2 = generate_svm_data(rrms_1_2, irrms_1_2)\n",
        "input_2_2, output_2_2, edge_time_2_1, deg_time_2_1 = generate_svm_data(rrms_2_2, irrms_2_2)\n",
        "input_3_2, output_3_2, edge_time_2_2, deg_time_2_2 = generate_svm_data(rrms_3_2, irrms_3_2)"
      ],
      "execution_count": null,
      "outputs": []
    },
    {
      "cell_type": "code",
      "metadata": {
        "id": "2OKlozzDGwCN"
      },
      "source": [
        "class SVM:\n",
        "    '''\n",
        "    This SVM model uses stochastic gradient decsent for optimisation.\n",
        "    '''\n",
        "\n",
        "    def predict(self, input_data):\n",
        "        '''\n",
        "        Returns\n",
        "        -------\n",
        "        ndarray\n",
        "            The classes of data according to the sign of X.W\n",
        "        '''\n",
        "        return np.sign(\n",
        "            np.dot(\n",
        "                np.c_[np.ones(input_data.shape[0]), input_data],\n",
        "                self.W\n",
        "            )\n",
        "        )\n",
        "\n",
        "    def _cost(self):\n",
        "        '''\n",
        "        Hingle loss with l2 regularisation\n",
        "        '''\n",
        "        m = self.X.shape[0]\n",
        "        hinge_loss = self.C * \\\n",
        "            (1 - np.multiply(self.Y, np.dot(self.X, self.W)))/m\n",
        "        return -np.mean(1/2 * np.dot(self.W.T, self.W) + hinge_loss)\n",
        "\n",
        "    def _calculate_gradient(self):\n",
        "        '''\n",
        "        gradient = W if y_i * (x_i).(W) >= 1\n",
        "        gradient = W - (C * y_i)x_i otherwise\n",
        "        '''\n",
        "        distance = 1 - (self.Y * np.dot(self.X, self.W))\n",
        "        dW = np.zeros(self.W.shape[0]).reshape(-1, 1)\n",
        "\n",
        "        for idx, d in enumerate(distance):\n",
        "            if max(0, d) == 0:\n",
        "                di = self.W\n",
        "            else:\n",
        "                c = (self.C * self.Y[idx]) * self.X[idx]\n",
        "                c = c.reshape(-1, 1)\n",
        "                di = self.W - c\n",
        "            dW += di\n",
        "\n",
        "        return dW/(self.Y.shape[0])\n",
        "\n",
        "    def fit(self, input_data, output_data, lr, C, max_epochs=1000, plot_loss=False):\n",
        "        '''\n",
        "        Fit the model using Stochastic gradient descent\n",
        "\n",
        "\n",
        "        Parameters\n",
        "        ----------\n",
        "        input_data : ndarray\n",
        "            The features of the data.\n",
        "\n",
        "        output_data : ndarray\n",
        "            True class labels, should be -1 and 1 (not 0 and 1).\n",
        "\n",
        "        lr : int\n",
        "            Learning rate\n",
        "\n",
        "        C : int\n",
        "            Regularisation parameter\n",
        "\n",
        "        max_epochs : int, default=1000\n",
        "            Max iterations for SGD\n",
        "\n",
        "        plot_loss : boolean, default=False\n",
        "            Plot the cost vs epoch graph\n",
        "\n",
        "\n",
        "        Returns\n",
        "        -------\n",
        "        SVM\n",
        "            The model itself\n",
        "        '''\n",
        "        self.X = np.c_[np.ones(input_data.shape[0]), input_data]\n",
        "        self.Y = np.array(output_data).reshape(-1, 1)\n",
        "        self.C = C\n",
        "        self.W = np.zeros(self.X.shape[1]).reshape(-1, 1)\n",
        "\n",
        "        total_loss = []\n",
        "\n",
        "        for epoch in range(max_epochs):\n",
        "            self.W = self.W - lr * self._calculate_gradient()\n",
        "            if plot_loss:\n",
        "                total_loss.append(self._cost())\n",
        "\n",
        "        if plot_loss:\n",
        "            plt.plot(total_loss)\n",
        "            plt.xlabel('epoch')\n",
        "            plt.ylabel('loss')\n",
        "            plt.title('Cost')\n",
        "\n",
        "        return self"
      ],
      "execution_count": null,
      "outputs": []
    },
    {
      "cell_type": "code",
      "metadata": {
        "id": "shKo6qHUiZzs"
      },
      "source": [
        "class OneVsRest:\n",
        "  def __init__(self, input_data, output_data):\n",
        "    self.models = [SVM() for i in set(output_data)]\n",
        "    self.x = input_data\n",
        "    self.y = output_data\n",
        "  \n",
        "  def fit(self, lr, C, max_epochs=1000, plot_loss=False):\n",
        "    trained_models = []\n",
        "    for idx, model in enumerate(self.models):\n",
        "      output = []\n",
        "      for y in self.y:\n",
        "        if y == idx:\n",
        "          output.append(1)\n",
        "        else:\n",
        "          output.append(-1)\n",
        "      \n",
        "      in_data = np.array(self.x)\n",
        "      out_data = np.array(output)\n",
        "      trained_models.append(model.fit(in_data, out_data, lr, C, max_epochs, plot_loss))\n",
        "\n",
        "    self.models = trained_models\n",
        "    return trained_models\n",
        "\n",
        "  def predict(self, input_data):\n",
        "    pred = []\n",
        "    for model in self.models:\n",
        "      pred.append(model.predict(input_data))\n",
        "    pred = np.array(pred)\n",
        "    return np.argmax(pred, axis=0)"
      ],
      "execution_count": null,
      "outputs": []
    },
    {
      "cell_type": "code",
      "metadata": {
        "id": "USiogItAsZKR"
      },
      "source": [
        "class OneVsOne:\n",
        "  def __init__(self, input_data, output_data):\n",
        "    self.n_classes = len(set(output_data))\n",
        "    n_models = int(self.n_classes * (self.n_classes - 1) * 0.5) # nC2 for pairs of classes\n",
        "    self.models = [SVM() for i in range(n_models)]\n",
        "\n",
        "    self.indices = []\n",
        "    for i in range(self.n_classes):\n",
        "      for j in range(i+1, self.n_classes):\n",
        "        self.indices.append([i, j])\n",
        "\n",
        "    self.x = input_data\n",
        "    self.y = output_data\n",
        "  \n",
        "  def fit(self, lr, C, max_epochs=1000, plot_loss=False):\n",
        "    trained_models = []\n",
        "    N = len(self.models)\n",
        "    df = np.c_[np.array(self.x), np.array(self.y)]\n",
        "\n",
        "    for model, index in zip(self.models, self.indices):\n",
        "      outp = []\n",
        "      inp = []\n",
        "      for x in df.tolist():\n",
        "        if x[-1] == index[0]:\n",
        "          temp = x[:-1]\n",
        "          inp.append(temp)\n",
        "          outp.append(1)\n",
        "        elif x[-1] == index[1]:\n",
        "          temp = x[:-1]\n",
        "          inp.append(temp)\n",
        "          outp.append(-1)\n",
        "\n",
        "      in_data = np.array(inp)\n",
        "      out_data = np.array(outp)\n",
        "      trained_models.append(model.fit(in_data, out_data, lr, C, max_epochs, plot_loss))\n",
        "\n",
        "    self.models = trained_models\n",
        "    return trained_models\n",
        "\n",
        "  def predict(self, input_data):\n",
        "    pred = []\n",
        "    for model in self.models:\n",
        "      pred.append(model.predict(input_data))\n",
        "    pred = np.array(pred)\n",
        "    return np.argmax(pred, axis=0)\n"
      ],
      "execution_count": null,
      "outputs": []
    },
    {
      "cell_type": "code",
      "metadata": {
        "id": "NINLo6NprLvt"
      },
      "source": [
        "from sklearn.svm import SVC\n",
        "from sklearn.preprocessing import MinMaxScaler\n",
        "\n",
        "input_2_1 = MinMaxScaler().fit_transform(input_2_1.tolist())\n",
        "input_3_1 = MinMaxScaler().fit_transform(input_3_1.tolist())"
      ],
      "execution_count": null,
      "outputs": []
    },
    {
      "cell_type": "code",
      "metadata": {
        "id": "4YECw1DPrqwL"
      },
      "source": [
        "model = SVC(decision_function_shape='ovo').fit(input_3_1, output_3_1.tolist())\n",
        "model.predict(input_2_1)"
      ],
      "execution_count": null,
      "outputs": []
    },
    {
      "cell_type": "code",
      "metadata": {
        "id": "g-n9ZKAlBjJF"
      },
      "source": [
        "def hybrid_degradation(k, lp, sts, irrmsj, irrmsj1, irrms_edges):\n",
        "  si = 6\n",
        "  k0 = 0.0005\n",
        "  sts = int(sts)\n",
        "  if k <= k0:\n",
        "    for sm in range(si):\n",
        "      lp[sts] = (lp[sts] + lp[sts-1])/2\n",
        "  elif k > k0:\n",
        "    lp[sts] = (irrmsj - irrmsj1) * (lp[sts] - lp[sts-1])\n",
        "    lp[sts] = lp[sts]/(irrms_edges[sts][1] - irrms_edges[sts][0])\n",
        "    lp[sts] = lp[sts] + lp[sts - 1]\n",
        "  return lp"
      ],
      "execution_count": null,
      "outputs": []
    },
    {
      "cell_type": "code",
      "metadata": {
        "colab": {
          "base_uri": "https://localhost:8080/"
        },
        "id": "vwPEPYA4I4ar",
        "outputId": "35683aa4-4871-4aea-9116-193896784fc0"
      },
      "source": [
        "lp = [0, 0.60, 0.80, 0.95, 1.0]\n",
        "x = [i for i in range(len(irrms_2_1))]\n",
        "k = 0\n",
        "for i in range(len(irrms_2_1) - window_length):\n",
        "  x_range = np.array(x[i: i+window_length])\n",
        "  y_range = np.array([np.mean(np.array(irrms_2_1[i: i+window_length])) for _ in range(window_length)])\n",
        "  k_num = np.sum(np.dot(x_range, y_range)) -( np.sum(x_range) * np.sum(y_range) )/window_length\n",
        "  k_denom = np.sum(x_range ** 2) - (np.sum(x_range) ** 2) / window_length\n",
        "  k = k_num / k_denom\n",
        "\n",
        "  if i > 0:\n",
        "    hybrid_degradation(k, lp, output_2_1[i], irrms_2_1[i], irrms_2_1[i-1], edge_2_1)\n",
        "print(lp)"
      ],
      "execution_count": null,
      "outputs": [
        {
          "output_type": "stream",
          "text": [
            "[1.0, 1.0, 0.8, 0.95, 1.0]\n"
          ],
          "name": "stdout"
        }
      ]
    },
    {
      "cell_type": "code",
      "metadata": {
        "id": "ocd5P5rU9244"
      },
      "source": [
        "def predict_rul(input_data, deg_time, lp):\n",
        "  rul_pred = []\n",
        "  rul_pred_total = []\n",
        "  pred_classes = model.predict(input_data)\n",
        "  for idx, val in enumerate(pred_classes):\n",
        "    if val > 0:\n",
        "      rul_pred.append(deg_time + ((idx * 10) - deg_time)/lp[val] - (idx*10))\n",
        "      rul_pred_total.append(deg_time + ((idx * 10) - deg_time)/lp[val])\n",
        "    else:\n",
        "      rul_pred.append(0)\n",
        "      rul_pred_total.append(0)\n",
        "  return rul_pred, rul_pred_total"
      ],
      "execution_count": null,
      "outputs": []
    },
    {
      "cell_type": "code",
      "metadata": {
        "id": "Ycfuu5sJSQ9J"
      },
      "source": [
        "rul_remaining, rul_full = predict_rul(input_3_1, deg_time_3_1, [0, 0.60, 0.80, 0.95,1.0])"
      ],
      "execution_count": null,
      "outputs": []
    },
    {
      "cell_type": "code",
      "metadata": {
        "colab": {
          "base_uri": "https://localhost:8080/"
        },
        "id": "Hr6HWQRRtzN8",
        "outputId": "51a05df2-d734-4203-e35c-2efb963a8677"
      },
      "source": [
        "actual_rul = len(input_3_1) * 10 - 10\n",
        "\n",
        "actual_rul"
      ],
      "execution_count": null,
      "outputs": [
        {
          "output_type": "execute_result",
          "data": {
            "text/plain": [
              "4840"
            ]
          },
          "metadata": {
            "tags": []
          },
          "execution_count": 30
        }
      ]
    },
    {
      "cell_type": "code",
      "metadata": {
        "id": "grD-xqh7sv7e"
      },
      "source": [
        "# Find out all non zero values from predicted output and find mean\n",
        "rul_full_non_zero = []\n",
        "for i in rul_full:\n",
        "  if i != 0:\n",
        "    rul_full_non_zero.append(i)\n",
        "\n",
        "pred_rul = np.mean(np.array(rul_full_non_zero))"
      ],
      "execution_count": null,
      "outputs": []
    },
    {
      "cell_type": "code",
      "metadata": {
        "id": "Efa94LPUp5gf",
        "colab": {
          "base_uri": "https://localhost:8080/"
        },
        "outputId": "fce3fa4f-97dc-4ad0-e05c-33fbb68542b4"
      },
      "source": [
        "pred_rul"
      ],
      "execution_count": null,
      "outputs": [
        {
          "output_type": "execute_result",
          "data": {
            "text/plain": [
              "array(4766.99760766)"
            ]
          },
          "metadata": {
            "tags": []
          },
          "execution_count": 34
        }
      ]
    },
    {
      "cell_type": "code",
      "metadata": {
        "id": "oGMYMgfLtYTy"
      },
      "source": [
        "def error_rate(actual, pred):\n",
        "  return abs(((actual - pred) / actual) * 100)"
      ],
      "execution_count": null,
      "outputs": []
    },
    {
      "cell_type": "code",
      "metadata": {
        "colab": {
          "base_uri": "https://localhost:8080/"
        },
        "id": "975raD2Tz1Q3",
        "outputId": "512ad0f5-85f6-4ae5-88e2-82b89c0b8d2d"
      },
      "source": [
        "error_rate(actual_rul, pred_rul)"
      ],
      "execution_count": null,
      "outputs": [
        {
          "output_type": "execute_result",
          "data": {
            "text/plain": [
              "array(1.50831389)"
            ]
          },
          "metadata": {
            "tags": []
          },
          "execution_count": 33
        }
      ]
    }
  ]
}